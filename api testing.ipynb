{
 "cells": [
  {
   "cell_type": "markdown",
   "metadata": {},
   "source": [
    "# Make RESTful requests from binance api\n",
    "# https://github.com/binance-exchange/binance-official-api-docs/blob/master/rest-api.md"
   ]
  },
  {
   "cell_type": "code",
   "execution_count": 13,
   "metadata": {
    "collapsed": true
   },
   "outputs": [],
   "source": [
    "import requests\n",
    "import json\n",
    "\n",
    "baseurl = 'https://api.binance.com'"
   ]
  },
  {
   "cell_type": "code",
   "execution_count": 9,
   "metadata": {},
   "outputs": [
    {
     "name": "stdout",
     "output_type": "stream",
     "text": [
      "The response contains 1 properties\n",
      "\n",
      "\n",
      "{\n",
      "    \"serverTime\": 1518750288496\n",
      "}\n"
     ]
    }
   ],
   "source": [
    "op_url = '/api/v1/time'\n",
    "url = baseurl+op_url\n",
    "\n",
    "response = requests.get(url)\n",
    "\n",
    "if(response.ok):\n",
    "\n",
    "    # Loading the response data into a dict variable\n",
    "    # json.loads takes in only binary or string variables so using content to fetch binary content\n",
    "    # Loads (Load String) takes a Json file and converts into python data structure (dict or list, depending on JSON)\n",
    "    jData = json.loads(response.content)\n",
    "\n",
    "    print(\"The response contains {0} properties\".format(len(jData)))\n",
    "    print(\"\\n\")\n",
    "    \n",
    "    print(json.dumps(jData, indent=4, sort_keys=True))\n",
    "else:\n",
    "  # If response code is not ok (200), print the resulting http error code with description\n",
    "    response.raise_for_status()"
   ]
  },
  {
   "cell_type": "code",
   "execution_count": 25,
   "metadata": {},
   "outputs": [
    {
     "name": "stdout",
     "output_type": "stream",
     "text": [
      "The response contains 3 properties\n",
      "\n",
      "\n",
      "{\n",
      "    \"asks\": [\n",
      "        [\n",
      "            \"0.09243000\",\n",
      "            \"0.58600000\",\n",
      "            []\n",
      "        ],\n",
      "        [\n",
      "            \"0.09243100\",\n",
      "            \"0.06300000\",\n",
      "            []\n",
      "        ],\n",
      "        [\n",
      "            \"0.09243200\",\n",
      "            \"1.92700000\",\n",
      "            []\n",
      "        ],\n",
      "        [\n",
      "            \"0.09244700\",\n",
      "            \"0.54700000\",\n",
      "            []\n",
      "        ],\n",
      "        [\n",
      "            \"0.09246200\",\n",
      "            \"0.02000000\",\n",
      "            []\n",
      "        ]\n",
      "    ],\n",
      "    \"bids\": [\n",
      "        [\n",
      "            \"0.09239800\",\n",
      "            \"3.31900000\",\n",
      "            []\n",
      "        ],\n",
      "        [\n",
      "            \"0.09239200\",\n",
      "            \"0.82800000\",\n",
      "            []\n",
      "        ],\n",
      "        [\n",
      "            \"0.09237500\",\n",
      "            \"0.53200000\",\n",
      "            []\n",
      "        ],\n",
      "        [\n",
      "            \"0.09236500\",\n",
      "            \"0.51800000\",\n",
      "            []\n",
      "        ],\n",
      "        [\n",
      "            \"0.09235800\",\n",
      "            \"0.17400000\",\n",
      "            []\n",
      "        ]\n",
      "    ],\n",
      "    \"lastUpdateId\": 118946710\n",
      "}\n"
     ]
    }
   ],
   "source": [
    "op_url = '/api/v1/depth'\n",
    "url = baseurl+op_url\n",
    "\n",
    "payload = {\n",
    "            'symbol': 'ETHBTC',\n",
    "            'limit' : 5\n",
    "          }\n",
    "\n",
    "response = requests.get(url,params=payload)\n",
    "\n",
    "if(response.ok):\n",
    "    \n",
    "    jData = json.loads(response.content)\n",
    "    print(\"The response contains {0} properties\".format(len(jData)))\n",
    "    print(\"\\n\")\n",
    "    \n",
    "    print(json.dumps(jData, indent=4, sort_keys=True))\n",
    "else:\n",
    "    response.raise_for_status()"
   ]
  },
  {
   "cell_type": "code",
   "execution_count": 30,
   "metadata": {},
   "outputs": [
    {
     "name": "stdout",
     "output_type": "stream",
     "text": [
      "The response contains 1 properties\n",
      "\n",
      "\n",
      "[\n",
      "    [\n",
      "        1518753600000,\n",
      "        \"0.09246000\",\n",
      "        \"0.09273000\",\n",
      "        \"0.09217900\",\n",
      "        \"0.09249900\",\n",
      "        \"5003.97800000\",\n",
      "        1518757199999,\n",
      "        \"462.80244713\",\n",
      "        15289,\n",
      "        \"2837.98800000\",\n",
      "        \"262.48477959\",\n",
      "        \"0\"\n",
      "    ]\n",
      "]\n"
     ]
    }
   ],
   "source": [
    "op_url = '/api/v1/klines'\n",
    "url = baseurl+op_url\n",
    "\n",
    "payload = {\n",
    "            'symbol'   : 'ETHBTC',\n",
    "            'interval' : '1h', # 1m 3m 5m 15m 30m 1h 2h 4h 6h 8h 12h 1d 3d 1w 1M\n",
    "            'limit'    : 1, # maximum 500\n",
    "            'startTime': 1518753600000\n",
    "          }\n",
    "\n",
    "response = requests.get(url,params=payload)\n",
    "\n",
    "if(response.ok):\n",
    "    \n",
    "    jData = json.loads(response.content)\n",
    "    print(\"The response contains {0} properties\".format(len(jData)))\n",
    "    print(\"\\n\")\n",
    "    \n",
    "    print(json.dumps(jData, indent=4, sort_keys=True))\n",
    "else:\n",
    "    response.raise_for_status()"
   ]
  },
  {
   "cell_type": "markdown",
   "metadata": {},
   "source": [
    "SAMPLE RESPONSE\n",
    "\n",
    "[\n",
    "  [\n",
    "    1499040000000,      // Open time\n",
    "    \"0.01634790\",       // Open\n",
    "    \"0.80000000\",       // High\n",
    "    \"0.01575800\",       // Low\n",
    "    \"0.01577100\",       // Close\n",
    "    \"148976.11427815\",  // Volume\n",
    "    1499644799999,      // Close time\n",
    "    \"2434.19055334\",    // Quote asset volume\n",
    "    308,                // Number of trades\n",
    "    \"1756.87402397\",    // Taker buy base asset volume\n",
    "    \"28.46694368\",      // Taker buy quote asset volume\n",
    "    \"17928899.62484339\" // Ignore\n",
    "  ]\n",
    "]"
   ]
  }
 ],
 "metadata": {
  "kernelspec": {
   "display_name": "Python 3",
   "language": "python",
   "name": "python3"
  },
  "language_info": {
   "codemirror_mode": {
    "name": "ipython",
    "version": 3
   },
   "file_extension": ".py",
   "mimetype": "text/x-python",
   "name": "python",
   "nbconvert_exporter": "python",
   "pygments_lexer": "ipython3",
   "version": "3.6.3"
  }
 },
 "nbformat": 4,
 "nbformat_minor": 2
}
