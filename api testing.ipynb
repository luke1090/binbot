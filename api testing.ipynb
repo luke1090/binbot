{
 "cells": [
  {
   "cell_type": "code",
   "execution_count": 8,
   "metadata": {},
   "outputs": [
    {
     "name": "stdout",
     "output_type": "stream",
     "text": [
      "The response contains 1 properties\n",
      "\n",
      "\n",
      "{\n",
      "    \"serverTime\": 1518749765058\n",
      "}\n"
     ]
    }
   ],
   "source": [
    "import requests\n",
    "import json\n",
    "\n",
    "baseurl = 'https://api.binance.com'\n",
    "op_url = '/api/v1/time'\n",
    "url = baseurl+op_url\n",
    "\n",
    "response = requests.get(url)\n",
    "\n",
    "if(response.ok):\n",
    "\n",
    "    # Loading the response data into a dict variable\n",
    "    # json.loads takes in only binary or string variables so using content to fetch binary content\n",
    "    # Loads (Load String) takes a Json file and converts into python data structure (dict or list, depending on JSON)\n",
    "    jData = json.loads(response.content)\n",
    "\n",
    "    print(\"The response contains {0} properties\".format(len(jData)))\n",
    "    print(\"\\n\")\n",
    "    print(json.dumps(jData, indent=4, sort_keys=True))\n",
    "else:\n",
    "  # If response code is not ok (200), print the resulting http error code with description\n",
    "    response.raise_for_status()"
   ]
  }
 ],
 "metadata": {
  "kernelspec": {
   "display_name": "Python 3",
   "language": "python",
   "name": "python3"
  },
  "language_info": {
   "codemirror_mode": {
    "name": "ipython",
    "version": 3
   },
   "file_extension": ".py",
   "mimetype": "text/x-python",
   "name": "python",
   "nbconvert_exporter": "python",
   "pygments_lexer": "ipython3",
   "version": "3.6.3"
  }
 },
 "nbformat": 4,
 "nbformat_minor": 2
}
